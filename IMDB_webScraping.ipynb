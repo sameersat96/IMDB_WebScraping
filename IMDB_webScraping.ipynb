{
  "nbformat": 4,
  "nbformat_minor": 0,
  "metadata": {
    "colab": {
      "provenance": [],
      "authorship_tag": "ABX9TyOxL3jxCd2c0Xmoxu53PxTS",
      "include_colab_link": true
    },
    "kernelspec": {
      "name": "python3",
      "display_name": "Python 3"
    },
    "language_info": {
      "name": "python"
    }
  },
  "cells": [
    {
      "cell_type": "markdown",
      "metadata": {
        "id": "view-in-github",
        "colab_type": "text"
      },
      "source": [
        "<a href=\"https://colab.research.google.com/github/sameersat96/IMDB_WebScraping/blob/main/IMDB_webScraping.ipynb\" target=\"_parent\"><img src=\"https://colab.research.google.com/assets/colab-badge.svg\" alt=\"Open In Colab\"/></a>"
      ]
    },
    {
      "cell_type": "code",
      "execution_count": 1,
      "metadata": {
        "colab": {
          "base_uri": "https://localhost:8080/"
        },
        "id": "lKZVgsrCdR0s",
        "outputId": "12f301ed-a268-49f0-c16b-8079e0971e7e"
      },
      "outputs": [
        {
          "output_type": "stream",
          "name": "stdout",
          "text": [
            "Looking in indexes: https://pypi.org/simple, https://us-python.pkg.dev/colab-wheels/public/simple/\n",
            "Requirement already satisfied: requests in /usr/local/lib/python3.8/dist-packages (2.25.1)\n",
            "Requirement already satisfied: urllib3<1.27,>=1.21.1 in /usr/local/lib/python3.8/dist-packages (from requests) (1.24.3)\n",
            "Requirement already satisfied: chardet<5,>=3.0.2 in /usr/local/lib/python3.8/dist-packages (from requests) (4.0.0)\n",
            "Requirement already satisfied: certifi>=2017.4.17 in /usr/local/lib/python3.8/dist-packages (from requests) (2022.12.7)\n",
            "Requirement already satisfied: idna<3,>=2.5 in /usr/local/lib/python3.8/dist-packages (from requests) (2.10)\n"
          ]
        }
      ],
      "source": [
        "pip install requests"
      ]
    },
    {
      "cell_type": "code",
      "source": [
        "pip install bs4"
      ],
      "metadata": {
        "colab": {
          "base_uri": "https://localhost:8080/"
        },
        "id": "xslEGoO0dWW_",
        "outputId": "141a2767-bcec-41db-bfc9-6e1a37ce456b"
      },
      "execution_count": 2,
      "outputs": [
        {
          "output_type": "stream",
          "name": "stdout",
          "text": [
            "Looking in indexes: https://pypi.org/simple, https://us-python.pkg.dev/colab-wheels/public/simple/\n",
            "Requirement already satisfied: bs4 in /usr/local/lib/python3.8/dist-packages (0.0.1)\n",
            "Requirement already satisfied: beautifulsoup4 in /usr/local/lib/python3.8/dist-packages (from bs4) (4.6.3)\n"
          ]
        }
      ]
    },
    {
      "cell_type": "code",
      "source": [
        "from bs4 import BeautifulSoup\n",
        "import requests , openpyxl"
      ],
      "metadata": {
        "id": "Q1pCYhcRdYmt"
      },
      "execution_count": 6,
      "outputs": []
    },
    {
      "cell_type": "code",
      "source": [
        "excel=openpyxl.Workbook()"
      ],
      "metadata": {
        "id": "hIDK-WPn6nFI"
      },
      "execution_count": 8,
      "outputs": []
    },
    {
      "cell_type": "code",
      "source": [
        "try:\n",
        "  source=requests.get(\"https://www.imdb.com/chart/moviemeter\")\n",
        "  source.raise_for_status()\n",
        "\n",
        "  soup=BeautifulSoup(source.text,'html.parser')\n",
        "  \n",
        "  movies=soup.find(\"tbody\",class_=\"lister-list\").find_all('tr')\n",
        "  \n",
        "\n",
        "  for movie in movies:\n",
        "    name=movie.find(\"td\",class_=\"titleColumn\").a.text\n",
        "\n",
        "    rank=movie.find(\"div\",class_=\"velocity\").text[0]\n",
        "\n",
        "    year=movie.find(\"td\",class_=\"titleColumn\").span.text.strip('()')\n",
        "\n",
        "    rating=movie.find(\"td\",class_=\"ratingColumn imdbRating\").strong.text\n",
        "\n",
        "\n",
        "    print(rank,name,year,rating)\n",
        "\n",
        "\n",
        "\n",
        "except Exception as e:\n",
        "  print(e)  "
      ],
      "metadata": {
        "colab": {
          "base_uri": "https://localhost:8080/"
        },
        "id": "GSpPvzemdje0",
        "outputId": "699e1e1d-0ba4-44ec-d750-a1b600a6f983"
      },
      "execution_count": 14,
      "outputs": [
        {
          "output_type": "stream",
          "name": "stdout",
          "text": [
            "1 You People 2023 5.5\n",
            "2 Babylon 2022 7.4\n",
            "3 Black Panther: Wakanda Forever 2022 6.9\n",
            "4 Avatar: The Way of Water 2022 7.8\n",
            "5 The Menu 2022 7.2\n",
            "6 Shotgun Wedding 2022 5.5\n",
            "7 The Banshees of Inisherin 2022 7.8\n",
            "8 Everything Everywhere All at Once 2022 8.0\n",
            "9 Knock at the Cabin 2023 6.4\n",
            "1 M3GAN 2022 6.4\n",
            "1 Infinity Pool 2023 6.8\n",
            "1 Teen Wolf: The Movie 2023 5.7\n",
            "1 Pathaan 2023 6.6\n",
            "1 Puss in Boots: The Last Wish 2022 7.9\n",
            "1 Plane 2023 6.6\n",
            "1 Tár 2022 7.6\n",
            "1 The Fabelmans 2022 7.7\n",
            "1 Glass Onion 2022 7.2\n",
            "1 Elvis 2022 7.4\n",
            "2 The Whale 2022 8.0\n",
            "2 All Quiet on the Western Front 2022 7.8\n",
            "2 Triangle of Sadness 2022 7.5\n",
            "2 A Man Called Otto 2022 7.6\n",
            "2 The Pale Blue Eye 2022 6.6\n",
            "2 X 2022 6.6\n",
            "2 80 for Brady 2023 6.0\n",
            "'NoneType' object has no attribute 'text'\n"
          ]
        }
      ]
    },
    {
      "cell_type": "code",
      "source": [],
      "metadata": {
        "id": "Cn6ulG7yew2Z"
      },
      "execution_count": 4,
      "outputs": []
    }
  ]
}